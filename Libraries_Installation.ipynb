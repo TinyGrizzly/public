{
  "nbformat": 4,
  "nbformat_minor": 0,
  "metadata": {
    "colab": {
      "provenance": [],
      "include_colab_link": true
    },
    "kernelspec": {
      "name": "python3",
      "display_name": "Python 3"
    },
    "language_info": {
      "name": "python"
    }
  },
  "cells": [
    {
      "cell_type": "markdown",
      "metadata": {
        "id": "view-in-github",
        "colab_type": "text"
      },
      "source": [
        "<a href=\"https://colab.research.google.com/github/TinyGrizzly/public/blob/main/Libraries_Installation.ipynb\" target=\"_parent\"><img src=\"https://colab.research.google.com/assets/colab-badge.svg\" alt=\"Open In Colab\"/></a>"
      ]
    },
    {
      "cell_type": "code",
      "execution_count": null,
      "metadata": {
        "id": "IacWL-iX5g-l"
      },
      "outputs": [],
      "source": [
        "# Quant Finance Libraries Installation\n",
        "\n",
        "!pip install numpy\n",
        "!pip install pandas\n",
        "!pip install yfinance\n",
        "!pip install matplotlib\n",
        "!pip install seaborn\n",
        "!pip install scikit-learn\n",
        "!pip install statsmodels\n",
        "!pip install scipy\n",
        "!pip install quantlib"
      ]
    },
    {
      "cell_type": "code",
      "source": [
        "# Importing Libraries\n",
        "\n",
        "import numpy as np\n",
        "import pandas as pd\n",
        "import yfinance as yf\n",
        "import matplotlib.pyplot as plt\n",
        "import seaborn as sns\n",
        "from sklearn.model_selection import train_test_split\n",
        "from sklearn.preprocessing import StandardScaler\n",
        "from sklearn.linear_model import LinearRegression\n",
        "from sklearn.metrics import mean_squared_error, r2_score\n",
        "from statsmodels.tsa.stattools import coint\n",
        "import statsmodels.api as sm\n",
        "from scipy import stats"
      ],
      "metadata": {
        "id": "it4yFsdU5qAj"
      },
      "execution_count": null,
      "outputs": []
    },
    {
      "cell_type": "code",
      "source": [
        "# Sample Data Downloading\n",
        "ticker = 'AAPL'  # Apple Inc. stock as an example\n",
        "start_date = '2024-06-01'\n",
        "end_date = '2024-07-01'\n",
        "data = yf.download(ticker, start=start_date, end=end_date)\n",
        "\n",
        "# Display the first 5 rows of the data\n",
        "data.head()"
      ],
      "metadata": {
        "id": "W8yeyrAc6Y4J"
      },
      "execution_count": null,
      "outputs": []
    },
    {
      "cell_type": "code",
      "source": [],
      "metadata": {
        "id": "c6xhCYkvr9N5"
      },
      "execution_count": null,
      "outputs": []
    },
    {
      "cell_type": "markdown",
      "source": [
        "What is Open High Low Close Adj Close Volume?\n",
        "\n",
        "Open: The price at which a security first trades upon the opening of an exchange on a given trading day. It is the initial price at which a stock is bought and sold at the start of the trading day.\n",
        "\n",
        "High: The highest price at which a security trades during the trading day. It indicates the maximum price at which the stock was bought.\n",
        "\n",
        "Low: The lowest price at which a security trades during the trading day. It indicates the minimum price at which the stock was sold.\n",
        "\n",
        "Close: The last price at which a security trades during the regular trading hours on a given trading day. It is often considered the most important price of the day because it is used as a reference point for many indicators and calculations.\n",
        "\n",
        "Adj Close (Adjusted Close): The closing price after adjustments for all applicable splits and dividend distributions. This value is used to reflect the stock's value accurately after corporate actions such as stock splits, dividends, and rights offerings.\n",
        "\n",
        "Volume: The total number of shares or contracts traded for the security during the trading day. It indicates the trading activity and liquidity of the security."
      ],
      "metadata": {
        "id": "-nIdctJG9bsY"
      }
    },
    {
      "cell_type": "code",
      "source": [
        "# Plotting the Close Price of the stock\n",
        "plt.figure(figsize=(14, 7))\n",
        "plt.plot(data['Close'], label='AAPL Close Price', color='b')\n",
        "plt.title('Apple Inc. (AAPL) Close Price')\n",
        "plt.xlabel('Date')\n",
        "plt.ylabel('Close Price (USD)')\n",
        "plt.legend()\n",
        "plt.grid(True)\n",
        "plt.show()"
      ],
      "metadata": {
        "id": "226lVi6C69lQ"
      },
      "execution_count": null,
      "outputs": []
    },
    {
      "cell_type": "markdown",
      "source": [
        "Attempt Question(for self evaluation):\n",
        "\n",
        "Write a Python script to download historical stock data for Microsoft Corporation (ticker: MSFT) from Yahoo Finance for the period from January 1, 2021, to December 31, 2023. The script should:\n",
        "\n",
        "Install the necessary libraries (numpy, pandas, yfinance, matplotlib, seaborn).\n",
        "Download the data for the given period.\n",
        "Extract the Open, High, Low, Close, Adj Close, and Volume columns.\n",
        "Plot the daily Opening Prices vs Time graph for the entire period."
      ],
      "metadata": {
        "id": "hjSWvJYk-5G8"
      }
    },
    {
      "cell_type": "code",
      "source": [],
      "metadata": {
        "id": "NVtycRhs_oQv"
      },
      "execution_count": null,
      "outputs": []
    }
  ]
}